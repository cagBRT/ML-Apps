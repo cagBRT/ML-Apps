{
  "cells": [
    {
      "attachments": {},
      "cell_type": "markdown",
      "metadata": {
        "id": "view-in-github",
        "colab_type": "text"
      },
      "source": [
        "<a href=\"https://colab.research.google.com/github/cagBRT/ML-Apps/blob/main/Streamlit_1_ES.ipynb\" target=\"_parent\"><img src=\"https://colab.research.google.com/assets/colab-badge.svg\" alt=\"Abrir en Colab\"/></a>"
      ]
    },
    {
      "cell_type": "markdown",
      "metadata": {
        "id": "lh33lMDar1nR"
      },
      "source": [
        "Este notebook usa Streamlit para hacer páginas web en un localtunnel. <br>\n"
      ]
    },
    {
      "cell_type": "code",
      "source": [
        "# Clone the entire repo.\n",
        "!git clone -l -s https://github.com/cagBRT/ML-Apps.git"
      ],
      "metadata": {
        "id": "MPnRnGQDzdup"
      },
      "execution_count": null,
      "outputs": []
    },
    {
      "cell_type": "code",
      "execution_count": null,
      "metadata": {
        "id": "YiQMHaFKxPwV"
      },
      "outputs": [],
      "source": [
        "from IPython.display import Image\n",
        "def page(num):\n",
        "  return Image(\"/content/ML-Apps/images/\"+num+\".png\" , width=640)"
      ]
    },
    {
      "cell_type": "markdown",
      "metadata": {
        "id": "nNTjkODp5RxO"
      },
      "source": [
        "Poder desarrollar y ver un sitio web en su computadora es importante. <br>\n",
        "Podemos hacer esto usando una librería de Python llamada Streamlit. <br>\n",
        "Los pasos que seguiremos son:<br>\n",
        "1. Importe la librería Streamlit <br>\n",
        "2. Escriba código Python para renderizar tu página.\n",
        "3. Ejecute el sitio web en su computadora. \n",
        "4. Para ver su página web localmente, cree un localtunnel. Esto le dará una URL única para ver la página web. \n",
        "5. Vaya a la URL e interactúe con el sitio web."
      ]
    },
    {
      "cell_type": "code",
      "execution_count": null,
      "metadata": {
        "id": "2JqiBZeBxV78"
      },
      "outputs": [],
      "source": [
        "page(\"steps\")"
      ]
    },
    {
      "cell_type": "markdown",
      "metadata": {
        "id": "dPun6RLF6diz"
      },
      "source": [
        "Un localtunnel sirve su página web. La computadora ejecuta la aplicación web que ha creado. <br>\n",
        "Un localtunnel le permitirá interactuar con su aplicación web como si fuera un sitio web público. <br>\n",
        "No debe interferir con la configuración de DNS o firewall. <br><br>\n",
        "**Si está ejecutando en una computadora de Deere, debería poder ver su aplicación web, pero es muy posible que el firewall de Deere va a impedir otros para lo accediendo.**"
      ]
    },
    {
      "cell_type": "code",
      "execution_count": null,
      "metadata": {
        "id": "lNt7eCFr5IyL"
      },
      "outputs": [],
      "source": [
        "page(\"localtunnel\")"
      ]
    },
    {
      "cell_type": "markdown",
      "metadata": {
        "id": "n8By_LP5-sT7"
      },
      "source": [
        "Qué sucede en su propia computadora cuando solicita ver la URL\n",
        "\n",
        "Por ejemplo: URL: https://busy-carrots-own-35-245-90-0.loca.lt"
      ]
    },
    {
      "cell_type": "code",
      "execution_count": null,
      "metadata": {
        "id": "gNxwpfTf5MEG"
      },
      "outputs": [],
      "source": [
        "page(\"Your localtunnel\")"
      ]
    },
    {
      "cell_type": "markdown",
      "metadata": {
        "id": "bF4e2jTzdRCA"
      },
      "source": [
        "https://colab.research.google.com/github/mrm8488/shared_colab_notebooks/blob/master/Create_streamlit_app.ipynb#scrollTo=XTGAizLhOIgC"
      ]
    },
    {
      "cell_type": "markdown",
      "metadata": {
        "id": "LAv-CsTmptAb"
      },
      "source": [
        "https://docs.streamlit.io/library/api-reference"
      ]
    },
    {
      "cell_type": "code",
      "execution_count": null,
      "metadata": {
        "id": "C6SsRIY_LOef"
      },
      "outputs": [],
      "source": [
        "!pip install --upgrade streamlit -q"
      ]
    },
    {
      "cell_type": "code",
      "source": [
        "!pip install jedi>=0.10"
      ],
      "metadata": {
        "id": "wV7h3pLTTGxB"
      },
      "execution_count": null,
      "outputs": []
    },
    {
      "cell_type": "code",
      "execution_count": null,
      "metadata": {
        "id": "FqS-9FauLDZg"
      },
      "outputs": [],
      "source": [
        "!npm install localtunnel"
      ]
    },
    {
      "cell_type": "markdown",
      "metadata": {
        "id": "1vzrSrhHw_qz"
      },
      "source": [
        "# **Usando Streamlit**"
      ]
    },
    {
      "cell_type": "markdown",
      "metadata": {
        "id": "Qid4HiqZvOT7"
      },
      "source": [
        "\n",
        "\n",
        "---\n",
        "\n"
      ]
    },
    {
      "cell_type": "markdown",
      "metadata": {
        "id": "i6lnxTE7xf_Q"
      },
      "source": [
        "# Ejemplo de una Página Basica<br>\n",
        "Agregando un título a la página"
      ]
    },
    {
      "cell_type": "markdown",
      "metadata": {
        "id": "irVokOv2sn5Z"
      },
      "source": [
        "1. Escribe código para crear la página. <br>\n",
        "Esta es una página simple, todo lo que tiene es un título.\n"
      ]
    },
    {
      "cell_type": "code",
      "execution_count": null,
      "metadata": {
        "id": "MplLvfqspHpb"
      },
      "outputs": [],
      "source": [
        "# Abajo está el nombre de la aplicación que crea la página\n",
        "%%writefile app2.py\n",
        "\n",
        "# La declaración import debe estar en la misma celda de código que la aplicación. \n",
        "import streamlit as st\n",
        "\n",
        "# Título de la página web\n",
        "nameString = \"Welcome to Streamlit\" \n",
        "st.title(nameString)"
      ]
    },
    {
      "cell_type": "markdown",
      "metadata": {
        "id": "C8iUCjaKszbA"
      },
      "source": [
        "2. Ejecute la aplicación que creó. <br>\n",
        "El siguiente código ejecutará su aplicación."
      ]
    },
    {
      "cell_type": "code",
      "execution_count": null,
      "metadata": {
        "id": "zaf-iBRgpXCB"
      },
      "outputs": [],
      "source": [
        "!streamlit run /content/app2.py &>/content/logs.txt &"
      ]
    },
    {
      "cell_type": "markdown",
      "metadata": {
        "id": "u9vgw-rMtJuN"
      },
      "source": [
        "3. Ejecute la página en su computadora usando un localtunnel. <br>\n",
        "Estamos utilizando el puerto 8501 en su computadora. <br>\n",
        "Probablamente no tenga nada más ejecutándose en este puerto."
      ]
    },
    {
      "cell_type": "markdown",
      "metadata": {
        "id": "SELB-1Rt_WQf"
      },
      "source": [
        "NPX es una parte del Node Package Manager (NPM)<br>\n",
        "Es un ejecutor de paquetes NPM que puede ejecutar cualquier paquete que desee desde el registro NPM sin instalar ese paquete. "
      ]
    },
    {
      "cell_type": "code",
      "execution_count": null,
      "metadata": {
        "id": "fjs3DgWIpZlc"
      },
      "outputs": [],
      "source": [
        "!npx localtunnel --port 8501"
      ]
    },
    {
      "cell_type": "markdown",
      "metadata": {
        "id": "Jz7Qkp2RuERL"
      },
      "source": [
        "4. Se crea una URL. Haga un clic en esta URL para ir a su página web.<br>\n",
        "Dése cuenta que crea un https seguro para todos los localtunnels."
      ]
    },
    {
      "cell_type": "markdown",
      "metadata": {
        "id": "GadAsieTpJcv"
      },
      "source": [
        "**Ejercicio 1:**<br>\n",
        "Cambie el título de la página y veálo usando el localtunnel."
      ]
    },
    {
      "cell_type": "markdown",
      "metadata": {
        "id": "E5W-JwtsTkNI"
      },
      "source": []
    }
  ],
  "metadata": {
    "colab": {
      "private_outputs": true,
      "provenance": [],
      "include_colab_link": true
    },
    "kernelspec": {
      "display_name": "Python 3",
      "language": "python",
      "name": "python3"
    },
    "language_info": {
      "name": "python",
      "version": "3.9.6 (tags/v3.9.6:db3ff76, Jun 28 2021, 15:26:21) [MSC v.1929 64 bit (AMD64)]"
    },
    "vscode": {
      "interpreter": {
        "hash": "13ebf2d7165bdaaaadd33277baba9a9edf5524f3e87d2594fd9f1678110b4063"
      }
    }
  },
  "nbformat": 4,
  "nbformat_minor": 0
}