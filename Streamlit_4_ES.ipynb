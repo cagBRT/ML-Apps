{
  "cells": [
    {
      "attachments": {},
      "cell_type": "markdown",
      "metadata": {
        "colab_type": "text",
        "id": "view-in-github"
      },
      "source": [
        "<a href=\"https://colab.research.google.com/github/cagBRT/ML-Apps/blob/main/Streamlit_4_ES.ipynb\" target=\"_parent\"><img src=\"https://colab.research.google.com/assets/colab-badge.svg\" alt=\"Abrir en Colab\"/></a>"
      ]
    },
    {
      "attachments": {},
      "cell_type": "markdown",
      "metadata": {
        "id": "k-90MDA0TSr0"
      },
      "source": [
        "Esta notebook demuestra el uso de una variedad de opciones de formato y entrada de usuario."
      ]
    },
    {
      "attachments": {},
      "cell_type": "markdown",
      "metadata": {
        "id": "YmXL-m_fvzDf"
      },
      "source": [
        "# Crear una barra lateral, menú en la barra lateral y varias páginas"
      ]
    },
    {
      "attachments": {},
      "cell_type": "markdown",
      "metadata": {
        "id": "v1w9rNUmwo1j"
      },
      "source": [
        "# **Esta app utiliza HTML, lo cual se considera inseguro para los hackers** <br>\n",
        "***No recomendaría el uso de HTML.***"
      ]
    },
    {
      "cell_type": "code",
      "execution_count": null,
      "metadata": {
        "id": "MPnRnGQDzdup"
      },
      "outputs": [],
      "source": [
        "# Clonar todo el repositorio.\n",
        "!git clone -l -s https://github.com/cagBRT/ML-Apps.git cloned-repo\n",
        "%cd cloned-repo"
      ]
    },
    {
      "cell_type": "code",
      "execution_count": null,
      "metadata": {
        "id": "C6SsRIY_LOef"
      },
      "outputs": [],
      "source": [
        "!pip install --upgrade streamlit -q"
      ]
    },
    {
      "cell_type": "code",
      "execution_count": null,
      "metadata": {
        "id": "FqS-9FauLDZg"
      },
      "outputs": [],
      "source": [
        "!npm install localtunnel"
      ]
    },
    {
      "cell_type": "code",
      "execution_count": null,
      "metadata": {
        "id": "YXvirfZznrun"
      },
      "outputs": [],
      "source": [
        "!pip install streamlit-option-menu"
      ]
    },
    {
      "attachments": {},
      "cell_type": "markdown",
      "metadata": {
        "id": "W9FupngW2Q2n"
      },
      "source": [
        "# Agregar formato"
      ]
    },
    {
      "cell_type": "code",
      "execution_count": null,
      "metadata": {
        "id": "gjMRzeUv2Su6"
      },
      "outputs": [],
      "source": [
        "#barra lateral\n",
        "%%writefile app33.py\n",
        "#La declaración de importación debe estar en la misma celda de código que la aplicación.\n",
        "import streamlit as st\n",
        "import pandas as pd\n",
        "from streamlit_option_menu import option_menu\n",
        "from IPython.display import Image\n",
        "from PIL import Image\n",
        "import numpy as np\n",
        "import cv2\n",
        "\n",
        "global image \n",
        "\n",
        "# Usando notación de objeto.\n",
        "add_selectbox = st.sidebar.selectbox(\n",
        "    \"How would you like to be contacted?\",\n",
        "    (\"Email\", \"Home phone\", \"Mobile phone\")\n",
        ")\n",
        "\n",
        "# Agregando el menú en la izquierda de la página en la barra lateral\n",
        "# usando la notación \"with\"\n",
        "with st.sidebar:\n",
        "        choose = option_menu(\"App Gallery\", [\"About\", \"Photo Editing\", \"Project Planning\", \"Python e-Course\", \"Contact\"],\n",
        "                         icons=['house', 'camera fill', 'kanban', 'book','person lines fill'],\n",
        "                         menu_icon=\"app-indicator\", default_index=0,                     \n",
        "    )\n",
        "\n",
        "# Agregando un logo a la col 2\n",
        "# Agregando texto a la col 1\n",
        "logo = Image.open(r'images/noun-world-3219965-007435.png')\n",
        "#=============\n",
        "#Si se selecciona el menú 'About'\n",
        "if choose == \"About\":\n",
        "    col1, col2 = st.columns( [0.8, 0.2])\n",
        "    with col1:               # Para mostrar el texto del encabezado usando estilo css.\n",
        "        st.markdown(\"\"\" <style> .font {\n",
        "        font-size:35px ; font-family: 'Cooper Black'; color: #FF9633;} \n",
        "        </style> \"\"\", unsafe_allow_html=True)\n",
        "        st.markdown('<p class=\"font\">About the World</p>', unsafe_allow_html=True) \n",
        "        st.write(\"Lots of things happen in the world. Let's talk about them\")   \n",
        "    with col2:               # Para mostrar el logo de la marca.\n",
        "        st.image(logo, width=130 )\n",
        "        st.write(\"This section of the page is column 2\")\n",
        "\n",
        "\n",
        "#=============\n",
        "#En la línea 55 vemos el interruptor que permite HTML.\n",
        "#No es una opción segura - recomendaría evitar el uso de HTML.\n",
        "\n",
        "elif choose == \"Photo Editing\":\n",
        "    col1, col2 = st.columns( [0.8, 0.2])\n",
        "    with col1:               # Para mostrar el texto del encabezado usando estilo css.\n",
        "        st.markdown(\"\"\" <style> .font {\n",
        "        font-size:35px ; font-family: 'Cooper Black'; color: #FF9633;} \n",
        "        </style> \"\"\", unsafe_allow_html=True)\n",
        "        st.markdown('<p class=\"font\">Upload your photo here...</p>', unsafe_allow_html=True)\n",
        "        st.write(\"Your image will be converted to grayscale\")\n",
        "        \n",
        "    with col2:               # Para mostrar el logo de la marca.\n",
        "        st.image(logo,  width=150)\n",
        "    #Agregar un cargador de archivos para permitir que los usuarios carguen fotos.\n",
        "    uploaded_file = st.file_uploader(\"\", type=['jpg','png','jpeg'])\n",
        "    if uploaded_file is not None:\n",
        "        image = Image.open(uploaded_file)\n",
        "        \n",
        "        col1, col2 = st.columns( [0.5, 0.5])\n",
        "        with col1:\n",
        "            st.markdown('<p style=\"text-align: center;\">Before</p>',unsafe_allow_html=True)\n",
        "            st.image(image,width=300)  \n",
        "\n",
        "        with col2:\n",
        "            st.markdown('<p style=\"text-align: center;\">After</p>',unsafe_allow_html=True)\n",
        "\n",
        "            converted_img = np.array(image.convert('RGB')) \n",
        "            gray_scale = cv2.cvtColor(converted_img, cv2.COLOR_RGB2GRAY)\n",
        "            inv_gray = 255 - gray_scale\n",
        "            blur_image = cv2.GaussianBlur(inv_gray, (125,125), 0, 0)\n",
        "            sketch = cv2.divide(gray_scale, 255 - blur_image, scale=256)\n",
        "            st.image(sketch, width=300)\n",
        "\n",
        "#=============\n",
        "elif choose == \"Python e-Course\":\n",
        "    st.markdown('Learn Python for Data Science') \n",
        "#=============\n",
        "elif choose == \"Contact\":\n",
        "    st.markdown(\"Contact Form\")\n",
        "    #establecer clear_on_submit=True\n",
        "    #para que el formulario se restablezca una vez que se envíe.\n",
        "    with st.form(key='columns_in_form2',clear_on_submit=True): \n",
        "\n",
        "        #st.write('Please help us improve!')\n",
        "        Name=st.text_input(label='Please Enter Your Name') #Recopilar comentarios de los usuarios.\n",
        "        Email=st.text_input(label='Please Enter Email') #Recopilar comentarios de los usuarios.\n",
        "        Message=st.text_input(label='Please Enter Your Message') #Recopilar comentarios de los usuarios.\n",
        "        submitted = st.form_submit_button('Submit')\n",
        "        if submitted:\n",
        "            st.write('Thanks for your contacting us. We will respond to your questions or inquiries as soon as possible!')"
      ]
    },
    {
      "cell_type": "code",
      "execution_count": null,
      "metadata": {
        "id": "czRX-NiP2ih8"
      },
      "outputs": [],
      "source": [
        "!streamlit run app33.py &>/content/logs.txt &"
      ]
    },
    {
      "cell_type": "code",
      "execution_count": null,
      "metadata": {
        "id": "jNtdpXOG2lSA"
      },
      "outputs": [],
      "source": [
        "!npx localtunnel --port 8501"
      ]
    },
    {
      "attachments": {},
      "cell_type": "markdown",
      "metadata": {
        "id": "oXxaXMtqzkx6"
      },
      "source": [
        "**Ejercicio 1** <br>\n",
        "1. Cambiar el mensaje devuelto al usuario en la página de Contacto. <br>\n",
        "Incluya el correo electrónico del usuario y el mensaje en el texto que se muestra al usuario."
      ]
    },
    {
      "attachments": {},
      "cell_type": "markdown",
      "metadata": {
        "id": "Uiwoq-F9z9ny"
      },
      "source": [
        "**Ejercicio 2**<br>\n",
        "1. Cambiar el elemento del menú \"Python E-course\" por \"All about me!\" <br>\n",
        "2. Agregue información sobre usted en la página. <br>\n",
        "3. Agregue una imagen a la página."
      ]
    }
  ],
  "metadata": {
    "colab": {
      "authorship_tag": "ABX9TyMKHhPxRABjs3QYdE0pd/Gu",
      "include_colab_link": true,
      "private_outputs": true,
      "provenance": []
    },
    "kernelspec": {
      "display_name": "Python 3",
      "language": "python",
      "name": "python3"
    },
    "language_info": {
      "codemirror_mode": {
        "name": "ipython",
        "version": 3
      },
      "file_extension": ".py",
      "mimetype": "text/x-python",
      "name": "python",
      "nbconvert_exporter": "python",
      "pygments_lexer": "ipython3",
      "version": "3.9.13"
    },
    "vscode": {
      "interpreter": {
        "hash": "13ebf2d7165bdaaaadd33277baba9a9edf5524f3e87d2594fd9f1678110b4063"
      }
    }
  },
  "nbformat": 4,
  "nbformat_minor": 0
}
