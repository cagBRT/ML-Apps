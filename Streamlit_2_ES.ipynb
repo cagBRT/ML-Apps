{
  "cells": [
    {
      "attachments": {},
      "cell_type": "markdown",
      "metadata": {
        "id": "view-in-github",
        "colab_type": "text"
      },
      "source": [
        "<a href=\"https://colab.research.google.com/github/cagBRT/ML-Apps/blob/main/Streamlit_2_ES.ipynb\" target=\"_parent\"><img src=\"https://colab.research.google.com/assets/colab-badge.svg\" alt=\"Abrir en Colab\"/></a>"
      ]
    },
    {
      "cell_type": "markdown",
      "metadata": {
        "id": "_CpBa-UouW_f"
      },
      "source": [
        "# **Agregar elementos interactivos a la página**"
      ]
    },
    {
      "cell_type": "code",
      "source": [
        "# Clone the entire repo.\n",
        "!git clone -l -s https://github.com/cagBRT/ML-Apps.git"
      ],
      "metadata": {
        "id": "Bn4ATgqRV_QD"
      },
      "execution_count": null,
      "outputs": []
    },
    {
      "cell_type": "code",
      "execution_count": null,
      "metadata": {
        "id": "ZW11LqMn0wfd"
      },
      "outputs": [],
      "source": [
        "from IPython.display import Image\n",
        "def page(num):\n",
        "  return Image(\"/content/ML-Apps/images/\"+num+\".png\" , width=640)"
      ]
    },
    {
      "cell_type": "markdown",
      "metadata": {
        "id": "bF4e2jTzdRCA"
      },
      "source": [
        "https://colab.research.google.com/github/mrm8488/shared_colab_notebooks/blob/master/Create_streamlit_app.ipynb#scrollTo=XTGAizLhOIgC"
      ]
    },
    {
      "cell_type": "markdown",
      "metadata": {
        "id": "LAv-CsTmptAb"
      },
      "source": [
        "https://docs.streamlit.io/library/api-reference"
      ]
    },
    {
      "cell_type": "code",
      "execution_count": null,
      "metadata": {
        "id": "C6SsRIY_LOef"
      },
      "outputs": [],
      "source": [
        "!pip install --upgrade streamlit -q"
      ]
    },
    {
      "cell_type": "code",
      "source": [
        "!pip install jedi>=0.10"
      ],
      "metadata": {
        "id": "dIcUU0F0m00g"
      },
      "execution_count": null,
      "outputs": []
    },
    {
      "cell_type": "code",
      "execution_count": null,
      "metadata": {
        "id": "FqS-9FauLDZg"
      },
      "outputs": [],
      "source": [
        "!npm install localtunnel"
      ]
    },
    {
      "cell_type": "code",
      "execution_count": null,
      "metadata": {
        "id": "wr6Pd-1k0zMY"
      },
      "outputs": [],
      "source": [
        "page(\"pageRendered\")"
      ]
    },
    {
      "cell_type": "markdown",
      "metadata": {
        "id": "i6lnxTE7xf_Q"
      },
      "source": [
        "# Ejemplos de comandos de Streamlit"
      ]
    },
    {
      "cell_type": "code",
      "execution_count": null,
      "metadata": {
        "id": "kmt2Eq6gbIJK"
      },
      "outputs": [],
      "source": [
        "%%writefile app3.py\n",
        "# La declaración import debe estar en la misma celda de código que la aplicación. \n",
        "import streamlit as st\n",
        "import pandas as pd\n",
        "import numpy as np\n",
        "import altair as alt\n",
        "\n",
        "# Título de la página web\n",
        "nameString = \"Welcome to Streamlit\" \n",
        "st.title(nameString)\n",
        "\n",
        "# Entrada de texto\n",
        "# Guardar el texto de entrada en la variable 'name'\n",
        "# El primer argumento muestra el título del cuadro de entrada de texto\n",
        "# El segundo argumento muestra un texto predeterminado adentro del área de entrada de texto\n",
        "name = st.text_input(\"Enter Your name\", \"Type Here ...\")\n",
        " \n",
        "# Entrada de número\n",
        "# Guardar el número de entrada en la variable 'number'\n",
        "number = st.number_input(\"Enter Your Number\")\n",
        "\n",
        "# Mostrar el nombre cuando se hace clic en el botón de enviar\n",
        "# .title() es usado para obtener la cadena de texto de entrada\n",
        "if(st.button('Submit')):\n",
        "    result = name.title()\n",
        "    st.success(result)\n",
        "    name_num=\"Your name is \"+name+\" Your number is \"+str(number)\n",
        "    st.success(name_num)"
      ]
    },
    {
      "cell_type": "markdown",
      "metadata": {
        "id": "96ysRNDEfmBL"
      },
      "source": [
        "**Compruebe que esta en el directorio correcto para ejecutar app3.py**<br>\n",
        "Si no tiene la ruta correcta para la aplicación, no obtendrá un error, la página simplemente no se cargará."
      ]
    },
    {
      "cell_type": "code",
      "execution_count": null,
      "metadata": {
        "id": "T68VrSbMLVMv"
      },
      "outputs": [],
      "source": [
        "!streamlit run app3.py &>/content/logs.txt &"
      ]
    },
    {
      "cell_type": "code",
      "execution_count": null,
      "metadata": {
        "id": "uCOKbfiQL6HQ"
      },
      "outputs": [],
      "source": [
        "!npx localtunnel --port 8501"
      ]
    },
    {
      "cell_type": "markdown",
      "metadata": {
        "id": "xbvsFVDAk91r"
      },
      "source": [
        "**Ejercicio 1**<br>\n",
        "Cree una aplicación llamada app4<br>\n",
        "La app debe tener:<br>\n",
        "\n",
        "\n",
        "*   Al menos dos cuadros de endrada de texto. \n",
        "*   Al menos dos cuadros de entrada de números.\n",
        "\n",
        "\n",
        "*   Un botón de enviar\n",
        "*   Al enviar, imprima las dos entradas de texto y las dos entradas de números.\n"
      ]
    },
    {
      "cell_type": "markdown",
      "metadata": {
        "id": "cjFRoHDenl86"
      },
      "source": [
        "\n",
        "\n",
        "---\n",
        "\n"
      ]
    },
    {
      "cell_type": "markdown",
      "metadata": {
        "id": "m2UDKz-326C7"
      },
      "source": [
        "# En la siguiente app, usamos markdown y widgets interactivos en la página. <br>"
      ]
    },
    {
      "cell_type": "markdown",
      "metadata": {
        "id": "2oFEwOTWnoA6"
      },
      "source": [
        "De forma predeterminada, cualquier etiqueta HTML que se encuentre en el cuerpo se escapará y, por lo tanto, se tratará como texto puro. Este comportamiento puede estar desactivado.\n",
        "\n",
        "Pero es muy recomendado no apagarlo. Es difícil escribir HTML seguro, entonces si lo desactiva puede estar arriesgando la seguridad de sus usuarios. Para obtener más información, viste:\n",
        "\n",
        "https://github.com/streamlit/streamlit/issues/152"
      ]
    },
    {
      "cell_type": "code",
      "execution_count": null,
      "metadata": {
        "id": "hwny4wu9nc_s"
      },
      "outputs": [],
      "source": [
        "%%writefile app5.py\n",
        "# La declaración import debe estar en la misma celda de código que la aplicación. \n",
        "import streamlit as st\n",
        "import pandas as pd\n",
        "import numpy as np\n",
        "import altair as alt\n",
        "\n",
        "# Título de la página web\n",
        "nameString = \"Welcome to Streamlit\" \n",
        "st.title(nameString)\n",
        "\n",
        "st.markdown('---')\n",
        "x = st.slider('Select a value')\n",
        "st.write(x, 'squared is', x * x)\n",
        "# Markdown\n",
        "st.markdown(\"### This is a markdown\")\n",
        "st.markdown('---')\n",
        "\n",
        "st.success(\"Success\")\n",
        " \n",
        "st.info(\"Information\")\n",
        " \n",
        "st.warning(\"Warning\")\n",
        " \n",
        "st.error(\"Error\")\n",
        "\n",
        "# Escribir texto\n",
        "st.write(\"Writing text on the page\")\n",
        " \n",
        "# Escribiendo Python inbuilt function range()\n",
        "st.write(\"Write the range from the built-in Python function\")\n",
        "st.write(range(10))\n",
        "\n",
        "st.markdown('---')\n",
        "\n",
        "# Cuadro de verificación\n",
        "# Compruebe si la cuadro de verificación está marcada\n",
        "# El título de la cuadro de verificación es 'Show/Hide'\n",
        "if st.checkbox(\"Show/Hide\"):\n",
        " \n",
        "    # Mostrar el texto si la casilla de verificación devuelve verdadero\n",
        "    st.text(\"Showing or hiding the text based on the checkbox\")\n",
        "\n",
        "st.markdown('---')\n",
        "\n",
        "# Cuadro de selección múltiple\n",
        " \n",
        "# El primer argumento toma el título de la cuadro\n",
        "# El segundo argumento toma las opciones para mostrar\n",
        "hobbies = st.multiselect(\"Hobbies: \",\n",
        "                         ['Dancing', 'Reading', 'Sports'])\n",
        " \n",
        "# Escribir las opciones seleccionadas\n",
        "st.write(\"You selected\", len(hobbies), 'hobbies')\n",
        "\n",
        "if hobbies.count(\"Dancing\") >0:\n",
        "  st.write(\"So you like to dance!\")\n",
        "if hobbies.count(\"Reading\") >0:\n",
        "  st.write(\"Reading is the best!\")\n",
        "if hobbies.count(\"Sports\") >0:\n",
        "  st.write(\"Playing or watching or both?\")\n",
        "if len(hobbies)==0:\n",
        "  st.write(\"What's your hobby?\")\n",
        "\n",
        "st.markdown('---')\n",
        "# Agregar un emoji\n",
        "#https://streamlit-emoji-shortcodes-streamlit-app-gwckff.streamlit.app/\n",
        "st.write('Hello, *World!* :sunglasses:')"
      ]
    },
    {
      "cell_type": "code",
      "execution_count": null,
      "metadata": {
        "id": "C1o1KyeonhYw"
      },
      "outputs": [],
      "source": [
        "!streamlit run app5.py &>/content/logs.txt &"
      ]
    },
    {
      "cell_type": "code",
      "execution_count": null,
      "metadata": {
        "id": "TrdYy3b1nkNm"
      },
      "outputs": [],
      "source": [
        "!npx localtunnel --port 8501"
      ]
    },
    {
      "cell_type": "markdown",
      "metadata": {
        "id": "0zo860wz33ub"
      },
      "source": [
        "**Ejercicio 2**<br>\n",
        "Cree una app llamada app6<br>\n",
        "La página debe tener:\n",
        "\n",
        "* Al menos una cuadra de verificación\n",
        "* Al menos un  menú desplegable con al menos cuatro opciones \n",
        "* Imprimir un mensaje diferente dependiendo de las opciones seleccionadas. \n",
        "* Escriba en la página todas las opciones que el usuario seleccionó. \n",
        "\n",
        "\n",
        "\n"
      ]
    }
  ],
  "metadata": {
    "colab": {
      "private_outputs": true,
      "provenance": [],
      "include_colab_link": true
    },
    "kernelspec": {
      "display_name": "Python 3",
      "language": "python",
      "name": "python3"
    },
    "language_info": {
      "name": "python",
      "version": "3.9.5 (tags/v3.9.5:0a7dcbd, May  3 2021, 17:27:52) [MSC v.1928 64 bit (AMD64)]"
    },
    "vscode": {
      "interpreter": {
        "hash": "13ebf2d7165bdaaaadd33277baba9a9edf5524f3e87d2594fd9f1678110b4063"
      }
    }
  },
  "nbformat": 4,
  "nbformat_minor": 0
}