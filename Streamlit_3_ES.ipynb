{
  "cells": [
    {
      "attachments": {},
      "cell_type": "markdown",
      "metadata": {
        "colab_type": "text",
        "id": "view-in-github"
      },
      "source": [
        "<a href=\"https://colab.research.google.com/github/cagBRT/ML-Apps/blob/main/Streamlit_3_ES.ipynb\" target=\"_parent\"><img src=\"https://colab.research.google.com/assets/colab-badge.svg\" alt=\"Abrir en Colab\"/></a>"
      ]
    },
    {
      "attachments": {},
      "cell_type": "markdown",
      "metadata": {
        "id": "l5kr8shUITSx"
      },
      "source": [
        "Este notebook crea un calculador de índice de masa corporal (IMC) utilizando Streamlit.\n",
        "La aplicación solicita información al usuario, calcula su IMC y muestra la categoría de salud correspondiente."
      ]
    },
    {
      "attachments": {},
      "cell_type": "markdown",
      "metadata": {
        "id": "Uj4Kc99wJRYB"
      },
      "source": [
        "Este notebook se creó utilizando Google Colab, para utilizarla correctamente en DataBricks es posible que se requieran algunas modificaciones."
      ]
    },
    {
      "cell_type": "code",
      "execution_count": null,
      "metadata": {
        "id": "MPnRnGQDzdup"
      },
      "outputs": [],
      "source": [
        "# Clonar todo el repositorio\n",
        "!git clone -l -s https://github.com/cagBRT/ML-Apps.git cloned-repo\n",
        "%cd cloned-repo"
      ]
    },
    {
      "cell_type": "code",
      "execution_count": null,
      "metadata": {
        "id": "Dn0I5z1Uhvjo"
      },
      "outputs": [],
      "source": [
        "from IPython.display import Image\n",
        "def page(num):\n",
        "  return Image(\"//content/ML-Apps/images/\"+num+\".png\" , width=640)"
      ]
    },
    {
      "attachments": {},
      "cell_type": "markdown",
      "metadata": {
        "id": "LAv-CsTmptAb"
      },
      "source": [
        "[Referencia de la API de Streamlit.](https://docs.streamlit.io/library/api-reference)\n"
      ]
    },
    {
      "attachments": {},
      "cell_type": "markdown",
      "metadata": {
        "id": "qlDaWzfQJMtm"
      },
      "source": [
        "Instalar la biblioteca de Streamlit y Local Tunnel."
      ]
    },
    {
      "cell_type": "code",
      "execution_count": null,
      "metadata": {
        "id": "C6SsRIY_LOef"
      },
      "outputs": [],
      "source": [
        "!pip install --upgrade streamlit -q"
      ]
    },
    {
      "cell_type": "code",
      "execution_count": null,
      "metadata": {
        "id": "dIcUU0F0m00g"
      },
      "outputs": [],
      "source": [
        "!pip install jedi>=0.10"
      ]
    },
    {
      "cell_type": "code",
      "execution_count": null,
      "metadata": {
        "id": "FqS-9FauLDZg"
      },
      "outputs": [],
      "source": [
        "!npm install localtunnel"
      ]
    },
    {
      "attachments": {},
      "cell_type": "markdown",
      "metadata": {
        "id": "5hvXhAx1xZPY"
      },
      "source": [
        "# Crear un Calculador de IMC"
      ]
    },
    {
      "cell_type": "code",
      "execution_count": null,
      "metadata": {
        "id": "_RlQWW42dN08"
      },
      "outputs": [],
      "source": [
        "%%writefile app2.py\n",
        "#La declaración de importación debe estar en la misma celda de código que la aplicación.\n",
        "import streamlit as st\n",
        "import pandas as pd\n",
        "\n",
        "#==============\n",
        "# Ejemplo\n",
        "#==============\n",
        "# Dar un título a nuestra aplicación.\n",
        "st.title('Welcome to BMI Calculator')\n",
        "\n",
        "# Introducir peso en kg\n",
        "weight = st.number_input(\"Enter your weight (in kgs)\")\n",
        "\n",
        "# Introducir altura\n",
        "# Botón de opción para elegir el formato de altura.\n",
        "status = st.radio('Select your height format: ',\n",
        "\t\t\t\t('cms', 'meters', 'feet'))\n",
        "\n",
        "# comparar el valor de estado\n",
        "if(status == 'cms'):\n",
        "\t# Introducir altura en centímetros\n",
        "\theight = st.number_input('Centimeters')\n",
        "\n",
        "\ttry:\n",
        "\t\tbmi = weight / ((height/100)**2)\n",
        "\texcept:\n",
        "\t\tst.text(\"Enter some value of height\")\n",
        "\n",
        "elif(status == 'meters'):\n",
        "\t# Introducir altura en metros\n",
        "\theight = st.number_input('Meters')\n",
        "\n",
        "\ttry:\n",
        "\t\tbmi = weight / (height ** 2)\n",
        "\texcept:\n",
        "\t\tst.text(\"Enter some value of height\")\n",
        "\n",
        "else:\n",
        "\t# Introducir altura en pies\n",
        "\theight = st.number_input('Feet')\n",
        "\n",
        "\t# 1 metro = 3.28ft\n",
        "\ttry:\n",
        "\t\tbmi = weight / (((height/3.28))**2)\n",
        "\texcept:\n",
        "\t\tst.text(\"Enter some value of height\")\n",
        "\n",
        "# comprobar si se ha presionado el botón o no\n",
        "if(st.button('Calculate BMI')):\n",
        "\n",
        "\t# imprimir el IMC\n",
        "\tst.text(\"Your BMI Index is {}.\".format(bmi))\n",
        "\n",
        "\t# dar la interpretación del IMC\n",
        "\tif(bmi < 16):\n",
        "\t\tst.error(\"You are Extremely Underweight\")\n",
        "\telif(bmi >= 16 and bmi < 18.5):\n",
        "\t\tst.warning(\"You are Underweight\")\n",
        "\telif(bmi >= 18.5 and bmi < 25):\n",
        "\t\tst.success(\"Healthy\")\n",
        "\telif(bmi >= 25 and bmi < 30):\n",
        "\t\tst.warning(\"Overweight\")\n",
        "\telif(bmi >= 30):\n",
        "\t\tst.error(\"Extremely Overweight\")"
      ]
    },
    {
      "attachments": {},
      "cell_type": "markdown",
      "metadata": {
        "id": "4fmCewMJJdeH"
      },
      "source": [
        "Observa que estamos ejecutando app2.py<br>\n",
        "Este es el nombre que le dimos a la aplicación al comienzo de la celda de código anterior. "
      ]
    },
    {
      "cell_type": "code",
      "execution_count": null,
      "metadata": {
        "id": "IoBq5w9fxOZH"
      },
      "outputs": [],
      "source": [
        "#Este comando crea un archivo logs.txt\n",
        "#Puedes verlo en el menú de la derecha.\n",
        "!streamlit run app2.py &>/content/logs.txt &"
      ]
    },
    {
      "cell_type": "code",
      "execution_count": null,
      "metadata": {
        "id": "i18duG9WxSMn"
      },
      "outputs": [],
      "source": [
        "!npx localtunnel --port 8501"
      ]
    },
    {
      "attachments": {},
      "cell_type": "markdown",
      "metadata": {
        "id": "O1QcK640jlmR"
      },
      "source": [
        "**Ejercicio 1:**<br>\n",
        "Crea una aplicación llamada app3<br>\n",
        "La aplicación debe hacer lo siguiente:\n",
        "1. Pedirle al usuario su nombre.\n",
        "2. Preguntarle al usuario por su renta.\n",
        "3. Preguntarle al usuario por su salario.\n",
        "4. Si el alquiler/salario < .30, el usuario está bien\n",
        "5. .31 < si el alquiler/salario < .5, el usuario debe tener precaución.\n",
        "6. Si el alquiler/salario > .5, el usuario está en problemas.\n",
        "7. Informar al usuario su estado."
      ]
    }
  ],
  "metadata": {
    "colab": {
      "authorship_tag": "ABX9TyP63j5cZWuUrHZ6nX7tJvJr",
      "include_colab_link": true,
      "private_outputs": true,
      "provenance": []
    },
    "kernelspec": {
      "display_name": "Python 3",
      "language": "python",
      "name": "python3"
    },
    "language_info": {
      "name": "python",
      "version": "3.9.13"
    },
    "vscode": {
      "interpreter": {
        "hash": "13ebf2d7165bdaaaadd33277baba9a9edf5524f3e87d2594fd9f1678110b4063"
      }
    }
  },
  "nbformat": 4,
  "nbformat_minor": 0
}
